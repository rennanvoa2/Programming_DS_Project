{
 "cells": [
  {
   "cell_type": "markdown",
   "metadata": {},
   "source": [
    "where we download our data and import specific libraries"
   ]
  },
  {
   "cell_type": "code",
   "execution_count": 1,
   "metadata": {},
   "outputs": [],
   "source": [
    "#Imports\n",
    "import pandas as pd\n",
    "import matplotlib.pyplot as plt\n",
    "import numpy as np\n",
    "\n",
    "#Define the URI from the github files (Number of Arrivels and Income)\n",
    "income_uri = 'https://raw.githubusercontent.com/rennanvoa2/Programming_DS_Project/master/Income.csv?token=AGBCKJR4XZIDLPKEMDYI5UK5VXNQW'\n",
    "arrival_uri = 'https://raw.githubusercontent.com/rennanvoa2/Programming_DS_Project/master/International%20Arrivals.csv?token=AGBCKJWXYPAEJDA36VRCGV25VXLRI'\n",
    "metadata_uri = 'https://raw.githubusercontent.com/rennanvoa2/Programming_DS_Project/master/Metadata_Country.csv?token=AGBCKJSRZS3NU57NV5N7MZS5V4P7M'"
   ]
  },
  {
   "cell_type": "markdown",
   "metadata": {},
   "source": [
    "where we read and clean data"
   ]
  },
  {
   "cell_type": "code",
   "execution_count": 2,
   "metadata": {},
   "outputs": [],
   "source": [
    "#Read the Arrivals CSV\n",
    "arrivals=pd.read_csv(arrival_uri, header=2)\n",
    "\n",
    "#Select the columns with usefull data we need 2007 here to calculate the grow from 2007 to 2008\n",
    "arrivals=arrivals[['Country Name', 'Country Code','2007' , '2008', '2009', '2010', '2011', '2012', '2013', '2014', '2015', '2016', '2017']]\n",
    "\n",
    "#Load metadata CSV\n",
    "metadata_country=pd.read_csv(metadata_uri, header=0)\n",
    "\n",
    "#Merge Arrivals CSV with Metadata CSV\n",
    "arrivals_df=arrivals.merge(metadata_country, on='Country Code', how='left')\n",
    "\n",
    "\n",
    "#Set Country Name as Index\n",
    "new_index = arrivals_df['Country Name']\n",
    "arrivals_df.set_index(new_index,inplace=True )\n",
    "\n",
    "#Create a column named Is_Country for later removing the \"areas\" like asia\n",
    "arrivals_df['Is_Country'] = arrivals_df['Region'].notnull()\n",
    "\n",
    "#Drop unnecessary columns\n",
    "arrivals_df.drop(['Country Name', 'Unnamed: 5', 'Region', 'IncomeGroup', 'SpecialNotes',\n",
    "         'TableName'], inplace=True, axis=1)\n",
    "\n",
    "#drop the 'areas'\n",
    "arrivals_df = arrivals_df[arrivals_df.Is_Country != False]\n",
    "\n",
    "\n",
    "#_____________________________________________________________________________\n",
    "\n",
    "\n",
    "#Load income CSV\n",
    "income=pd.read_csv(income_uri, header=2)\n",
    "\n",
    "#Select the columns with usefull data we need 2007 here to calculate the grow from 2007 to 2008\n",
    "income=income[['Country Name', 'Country Code','2007','2008', '2009', '2010', '2011',\n",
    "               '2012', '2013', '2014', '2015', '2016', '2017']]\n",
    "\n",
    "#Merge income CSV and Metadata CSV\n",
    "income_df=income.merge(metadata_country, on='Country Code', how='left')\n",
    "\n",
    "\n",
    "#Set Country Name as Index\n",
    "new_index = income_df['Country Name']\n",
    "income_df.set_index(new_index,inplace=True )\n",
    "\n",
    "#Create a column named Is_Country for later removing the \"areas\" like asia\n",
    "income_df['Is_Country'] = income_df['Region'].notnull()\n",
    "\n",
    "#Drop unnecessary columns\n",
    "income_df.drop(['Country Name', 'Unnamed: 5', 'Region', 'IncomeGroup', 'SpecialNotes',\n",
    "         'TableName'], inplace=True, axis=1)\n",
    "\n",
    "#drop the 'areas'\n",
    "income_df = income_df[income_df.Is_Country != False]\n",
    "\n"
   ]
  },
  {
   "cell_type": "markdown",
   "metadata": {},
   "source": [
    "we check our data here and finish cleaning"
   ]
  },
  {
   "cell_type": "code",
   "execution_count": 3,
   "metadata": {},
   "outputs": [],
   "source": [
    "#Count number of itens in the DataFrame\n",
    "arrivals_df['Country Code'].count()\n",
    "\n",
    "#Count not nulls in column 2008\n",
    "arrivals_df['2007'].count()\n",
    "\n",
    "#count nulls in 2008\n",
    "arrivals_df['2007'].isnull().sum()\n",
    "\n",
    "#drop rows with more than 5 NANs values\n",
    "arrivals_df = arrivals_df.dropna(thresh=(len(arrivals_df.loc[:,'2008':'2017'].columns) - 5))\n",
    "\n",
    "#Check if the number of itens is correspondent after drop the rows\n",
    "arrivals_df['Country Code'].count()\n",
    "\n",
    "#drop the Is_Country column becouse we dont need it anymore\n",
    "arrivals_df.drop('Is_Country', inplace=True, axis=1)\n",
    "\n",
    "#fill the NaN values with the row mean\n",
    "arrivals_df.loc[:, '2007':'2017'] = arrivals_df.loc[:, '2007':'2017'].apply(lambda\n",
    "               row: row.fillna(row.mean()), axis=1)\n",
    "\n",
    "\n",
    "#create feature Avarage in Last 10 Years\n",
    "arrivals_df['Avg_Arrivals_10_Years'] = arrivals_df.loc[:,'2008':'2017'].mean(axis=1)\n",
    "\n",
    "\n",
    "annual_arrival_growth = pd.DataFrame(index=arrivals_df.index.values)\n",
    "\n",
    "#Fill the growth of each year in annual_arrival_growth dataframe\n",
    "for i in arrivals_df.loc[:,'2008':'2017'].columns:\n",
    "    annual_arrival_growth[i] = (arrivals_df[i] - arrivals_df[str(int(i)-1)]) / arrivals_df[str(int(i)-1)]\n",
    "   \n",
    "\n",
    "\n",
    "#Create the feature Growth in 10 years\n",
    "arrivals_df['Growth10ys']=(arrivals_df['2017']/arrivals_df['2008']-1)\n",
    "\n",
    "\n",
    "#New Growth metric, becouse the last one wasnt good.\n",
    "arrivals_df[\"AVG_Growth\"] =  annual_arrival_growth.mean(axis=1)\n",
    "\n",
    "\n",
    "#_____________________________________________________________________________\n",
    "\n",
    "\n",
    "#Count number of itens in the DataFrame\n",
    "income_df['Country Code'].count()\n",
    "\n",
    "#Count not nulls in column 2008\n",
    "income_df['2008'].count()\n",
    "\n",
    "#count nulls in 2008\n",
    "income_df['2008'].isnull().sum()\n",
    "\n",
    "#drop rows with more than 5 NANs values\n",
    "income_df = income_df.dropna(thresh=(len(income_df.loc[:,'2008':'2017'].columns) - 5))\n",
    "\n",
    "#Check if the number of itens is correspondent after drop the rows\n",
    "income_df['Country Code'].count()\n",
    "\n",
    "#drop the Is_Country column becouse we dont need it anymore\n",
    "income_df.drop('Is_Country', inplace=True, axis=1)\n",
    "\n",
    "\n",
    "#fill the NaN values with the row mean\n",
    "income_df.loc[:, '2007':'2017'] = income_df.loc[:, '2007':'2017'].apply(lambda row: row.fillna(row.mean()), axis=1)\n",
    "\n",
    "\n",
    "\n",
    "#divided every value for 1000000. Now the scale is in milions of dolars\n",
    "#for i in range(2008,2018):\n",
    "#    income_df[str(i)] = income_df[str(i)].apply(lambda x: x / 1000000)\n",
    "#not using anymore\n",
    "\n",
    "\n",
    "#create feature Avarage in Last 10 Years\n",
    "income_df['Avg_Income_10_Years'] = income_df.loc[:,'2008':'2017'].mean(axis=1)\n",
    "\n",
    "\n",
    "\n",
    "#Create the feature Growth in 10 years\n",
    "income_df['Growth10ys']=(income_df['2017']/income_df['2008']-1)\n",
    "\n",
    "\n",
    "annual_income_growth = pd.DataFrame(index=income_df.index.values)\n",
    "\n",
    "#Fill annual_income_growth\n",
    "for i in income_df.loc[:,'2008':'2017'].columns:\n",
    "    annual_income_growth[i] = (income_df[i] - income_df[str(int(i)-1)]) / income_df[str(int(i)-1)]  #for i in arrivals_df.loc[:,'2008':'2017'].columns]))\n",
    "\n",
    "\n",
    "\n",
    "#New Growth metric, becouse the last one wasnt good.\n",
    "income_df[\"AVG_Growth\"] =  annual_income_growth.mean(axis=1)\n",
    "\n",
    "\n",
    "#Create Avarage expenditure per person\n",
    "income_df['AVG_expenditure_per_person'] = income_df['Avg_Income_10_Years'] / arrivals_df['Avg_Arrivals_10_Years']\n",
    "\n",
    "\n",
    "\n",
    "\n",
    "\n",
    "#Weigh's for metrics\n",
    "arrivals_total_number_weight = 1\n",
    "arrivals_growth_weight = 1\n",
    "income_total_number_weight = 1\n",
    "income_growth_weight = 1\n",
    "avg_per_person_weight = 1\n",
    "\n"
   ]
  },
  {
   "cell_type": "markdown",
   "metadata": {},
   "source": [
    "new metrics for data analysis"
   ]
  },
  {
   "cell_type": "code",
   "execution_count": 4,
   "metadata": {},
   "outputs": [],
   "source": [
    "#sort by the best avarage arrivals in the last 10 years\n",
    "arrivals_df = arrivals_df.sort_values('Avg_Arrivals_10_Years', ascending =False)\n",
    "\n",
    "\n",
    "#divide each value of Growth in 10 years for the sum of the column\n",
    "arrivals_df['% growth'] = arrivals_df['AVG_Growth'] / arrivals_df['AVG_Growth'].sum()\n",
    "\n",
    "arrivals_df['% growth'].sum()\n",
    "\n",
    "#divide each value of Avarage in 10 years for the sum of the column\n",
    "arrivals_df['%Avg_Arrivals'] = arrivals_df['Avg_Arrivals_10_Years'] / arrivals_df['Avg_Arrivals_10_Years'].sum()\n",
    "\n",
    "\n",
    "#Calculate the avarage between Growth and Avarage Numbers of Arrivals\n",
    "arrivals_df['Growth x Avarage'] = (arrivals_growth_weight * arrivals_df['% growth'] +\n",
    "               (arrivals_total_number_weight * arrivals_df['%Avg_Arrivals'])) / (arrivals_total_number_weight + arrivals_growth_weight)\n",
    "\n",
    "#create a dataframe sorted by Growth X Avarage\n",
    "Arrivals_in_growth_vs_arrivals = arrivals_df.sort_values('Growth x Avarage', ascending=False)\n",
    "\n",
    "#____________________________________________________________--\n",
    "\n",
    "\n",
    "#sort by the best avarage income in the last 10 years\n",
    "income_df = income_df.sort_values('Avg_Income_10_Years', ascending =False)\n",
    "\n",
    "#divide each value of Growth in 10 years for the sum of the column\n",
    "income_df['% growth'] = income_df['AVG_Growth'] / income_df['AVG_Growth'].sum()\n",
    "\n",
    "\n",
    "#divide each value of Avarage in 10 years for the sum of the column\n",
    "income_df['%Avg_Incomes'] = income_df['Avg_Income_10_Years'] / income_df['Avg_Income_10_Years'].sum()\n",
    "\n",
    "#divide each value of Avarage per person for the sum of the column\n",
    "income_df['%Avg_Per_Person'] = income_df['AVG_expenditure_per_person'] / income_df['AVG_expenditure_per_person'].sum()\n",
    "\n",
    "#Calculate the avarage between Growth and Avarage Numbers of Arrivals\n",
    "income_df['Growth x Avarage x Avg Exp'] = (income_growth_weight * income_df['% growth'] +\n",
    "               (income_total_number_weight* income_df['%Avg_Incomes']) + \n",
    "               avg_per_person_weight * income_df['%Avg_Per_Person']) / (income_total_number_weight + \n",
    "                                                income_growth_weight + avg_per_person_weight)\n",
    "\n",
    "\n",
    "#create a dataframe sorted by Growth X Avarage\n",
    "income_in_growth_vs_income = income_df.sort_values('Growth x Avarage x Avg Exp', ascending=False)\n",
    "\n",
    "#Drop Belarus, its an outlier in Arrivals Dataset\n",
    "Arrivals_in_growth_vs_arrivals = Arrivals_in_growth_vs_arrivals.drop(['Belarus'])\n",
    "\n",
    "#Drop Congo, its an outlier in income Dataset\n",
    "income_in_growth_vs_income = income_in_growth_vs_income.drop(['Congo, Dem. Rep.'])\n",
    "\n"
   ]
  },
  {
   "cell_type": "markdown",
   "metadata": {},
   "source": [
    "first plot "
   ]
  },
  {
   "cell_type": "code",
   "execution_count": 5,
   "metadata": {},
   "outputs": [
    {
     "data": {
      "image/png": "[encoded data removed]",
      "text/plain": [
       "<Figure size 432x288 with 1 Axes>"
      ]
     },
     "metadata": {
      "needs_background": "light"
     },
     "output_type": "display_data"
    }
   ],
   "source": [
    "#get the best 10 results in Arrivals\n",
    "arrival_top_10 = Arrivals_in_growth_vs_arrivals.iloc[0:10,:]\n",
    "\n",
    "#get the best 10 results in income\n",
    "income_top_10 = income_in_growth_vs_income.iloc[0:10,:]\n",
    "\n",
    "\n",
    "# plotting the points \n",
    "plt.bar(arrival_top_10.index.values, arrival_top_10['Growth x Avarage'], color='blue')\n",
    "\n",
    "#Resize the figure to 50x20\n",
    "plt.rcParams['figure.figsize'] = (30,10)\n",
    "\n",
    " \n",
    "# naming the x axis \n",
    "plt.xlabel('Countries') \n",
    "\n",
    "# naming the y axis \n",
    "plt.ylabel('% in Growth x % in Number') \n",
    "  \n",
    "# giving a title\n",
    "plt.title(\"Arrival's\") \n",
    "\n",
    "#Save it in a png file for better view\n",
    "plt.savefig('Arrivals.png')\n",
    "\n",
    "# function to show the plot \n",
    "plt.show() \n",
    "\n"
   ]
  },
  {
   "cell_type": "markdown",
   "metadata": {},
   "source": [
    "second plot"
   ]
  },
  {
   "cell_type": "code",
   "execution_count": 6,
   "metadata": {},
   "outputs": [
    {
     "data": {
      "image/png": "[encoded data removed]",
      "text/plain": [
       "<Figure size 2160x720 with 1 Axes>"
      ]
     },
     "metadata": {
      "needs_background": "light"
     },
     "output_type": "display_data"
    }
   ],
   "source": [
    "# plotting the points \n",
    "plt.bar(income_top_10.index.values, income_top_10['Growth x Avarage x Avg Exp'], color='orange')\n",
    "\n",
    "#Resize the figure to 50x20\n",
    "plt.rcParams['figure.figsize'] = (30,10)\n",
    "\n",
    "# naming the x axis \n",
    "plt.xlabel('Countries') \n",
    "\n",
    "# naming the y axis \n",
    "plt.ylabel('% in Growth x % in Number') \n",
    "  \n",
    "# giving a title \n",
    "plt.title('Income') \n",
    "\n",
    "#Save it in a png file for better view\n",
    "plt.savefig('Income.png')\n",
    "\n",
    "# function to show the plot \n",
    "plt.show() \n",
    "\n"
   ]
  },
  {
   "cell_type": "markdown",
   "metadata": {},
   "source": [
    "third plot"
   ]
  },
  {
   "cell_type": "code",
   "execution_count": 7,
   "metadata": {},
   "outputs": [
    {
     "data": {
      "image/png": "[encoded data removed]",
      "text/plain": [
       "<Figure size 2160x720 with 1 Axes>"
      ]
     },
     "metadata": {
      "needs_background": "light"
     },
     "output_type": "display_data"
    }
   ],
   "source": [
    "\n",
    "#Create a list with unique countries in arrival_top_10 + income_top_10\n",
    "label_array = list(set(list(arrival_top_10.index.values)+ list(income_top_10.index.values)))\n",
    "\n",
    "\n",
    "#Create a dataframe with the sum of top arrivals + top income\n",
    "Arrivals_plus_income = pd.DataFrame(index=label_array)\n",
    "Arrivals_plus_income['Arrivals GxA'] = arrivals_df['Growth x Avarage']\n",
    "Arrivals_plus_income['Income GxA'] = income_df['Growth x Avarage x Avg Exp']\n",
    "\n",
    "#sort the DataFrame by income\n",
    "Arrivals_plus_income = Arrivals_plus_income.sort_values('Income GxA', ascending =False)\n",
    "\n",
    "\n",
    "\n",
    "#Plot  income Values on a Bar chart\n",
    "plt.bar(Arrivals_plus_income.index.values, Arrivals_plus_income['Income GxA'], width=0.5,\n",
    "        label='Income', color='orange')\n",
    "\n",
    "#Plot  Arrivals Values on a Bar chart\n",
    "plt.bar(Arrivals_plus_income.index.values, Arrivals_plus_income['Arrivals GxA'], width=0.5,\n",
    "        label='Arrival', bottom=Arrivals_plus_income['Income GxA'], color='blue')\n",
    "\n",
    "#Resize the figure to 100x20\n",
    "plt.rcParams['figure.figsize'] = (30,10)\n",
    "\n",
    "# naming the x axis \n",
    "plt.xlabel('Top Countries') \n",
    "\n",
    "# naming the y axis \n",
    "plt.ylabel('Income & Arrivals (Growth x Avarage)') \n",
    "  \n",
    "# giving a title\n",
    "plt.title('Growth x Total Number of Arrivals') \n",
    "\n",
    "#Put legend\n",
    "plt.legend()\n",
    "\n",
    "#Save it in a png file for better view\n",
    "plt.savefig('Arrivals x Income.png')\n",
    "\n",
    "\n",
    "# function to show the plot \n",
    "plt.show() \n",
    "    "
   ]
  },
  {
   "cell_type": "code",
   "execution_count": null,
   "metadata": {},
   "outputs": [],
   "source": []
  },
  {
   "cell_type": "code",
   "execution_count": null,
   "metadata": {},
   "outputs": [],
   "source": []
  }
 ],
 "metadata": {
  "kernelspec": {
   "display_name": "Python 3",
   "language": "python",
   "name": "python3"
  },
  "language_info": {
   "codemirror_mode": {
    "name": "ipython",
    "version": 3
   },
   "file_extension": ".py",
   "mimetype": "text/x-python",
   "name": "python",
   "nbconvert_exporter": "python",
   "pygments_lexer": "ipython3",
   "version": "3.7.1"
  }
 },
 "nbformat": 4,
 "nbformat_minor": 2
}
